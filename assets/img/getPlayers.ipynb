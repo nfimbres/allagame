{
 "cells": [
  {
   "cell_type": "code",
   "execution_count": 2,
   "id": "f0cd7689-6522-447d-913e-97f9c308d126",
   "metadata": {},
   "outputs": [],
   "source": [
    "# Install libraries\n",
    "!pip3 install nba_api --quiet"
   ]
  },
  {
   "cell_type": "code",
   "execution_count": 26,
   "id": "1ee4c407-3830-45fc-bac6-5b652b073326",
   "metadata": {},
   "outputs": [],
   "source": [
    "def printLoad(numerator, denominator):\n",
    "    if denominator > 0:\n",
    "        perc = numerator/denominator\n",
    "    else:\n",
    "        print(\"Error!\")\n",
    "        return\n",
    "\n",
    "    done = \"█\" * round(perc * 25)\n",
    "    left = \"░\" * (25 - round(perc * 25))\n",
    "    \n",
    "    print(f\"{round(100*perc,1)}% {done+left}\", end='\\r', flush=True)"
   ]
  },
  {
   "cell_type": "code",
   "execution_count": 3,
   "id": "9c713504-6ad4-4adf-855c-dad53fcd69a3",
   "metadata": {},
   "outputs": [],
   "source": [
    "# Import libraries\n",
    "import pandas as pd\n",
    "from nba_api.stats.endpoints import playergamelog, leaguedashplayerbiostats\n",
    "from nba_api.stats.library import data\n",
    "from nba_api.stats.static import players as pl\n",
    "import time"
   ]
  },
  {
   "cell_type": "code",
   "execution_count": 4,
   "id": "c6a7f785-8564-4d86-a0bc-a7ef46cb1382",
   "metadata": {},
   "outputs": [],
   "source": [
    "# Get players list\n",
    "players = data.players\n",
    "\n",
    "\n",
    "# Seperate active and retired players\n",
    "activePlayers = []\n",
    "for p in players:\n",
    "    if p[4] == True and p not in activePlayers:\n",
    "        activePlayers.append(p)\n",
    "retiredPlayers = []\n",
    "for p in players:\n",
    "    if p[4] == False and p not in retiredPlayers:\n",
    "        retiredPlayers.append(p)\n",
    "\n",
    "# Fix Korean and Chinese names\n",
    "for p in players:\n",
    "    if p[3] == 'Ha Seung-jin':\n",
    "        p[1] = 'Ha'\n",
    "        p[2] = 'Seung-jin'\n",
    "    elif p[3] == 'Sun Yue':\n",
    "        p[1] = 'Sun'\n",
    "        p[2] = 'Yue'\n",
    "    elif p[3] == 'Yao Ming':\n",
    "        p[1] = 'Yao'\n",
    "        p[2] = 'Ming'\n",
    "    elif p[3] == 'Yi Jianlian':\n",
    "        p[1] = 'Yi'\n",
    "        p[2] = 'Jianlian'\n",
    "    elif p[3] == 'Zhou Qi':\n",
    "        p[1] = 'Zhou'\n",
    "        p[2] = 'Qi'"
   ]
  },
  {
   "cell_type": "code",
   "execution_count": 5,
   "id": "34d6d451-ca74-484e-b276-d0cccd0e4fcb",
   "metadata": {},
   "outputs": [],
   "source": [
    "for p in players:\n",
    "    p[1] = pl._strip_accents(p[1])\n",
    "    p[2] = pl._strip_accents(p[2])\n",
    "    p[3] = pl._strip_accents(p[3])"
   ]
  },
  {
   "cell_type": "code",
   "execution_count": 6,
   "id": "7ee4f45c-62e3-403c-8e6a-9b2a673c76e4",
   "metadata": {},
   "outputs": [],
   "source": [
    "for p in players:\n",
    "    if '.J.' in p[3] or '.C.' in p[3] or '.P.' in p[3] or '.R.' in p[3] or '.L.' in p[3]:\n",
    "        p[2] = p[2].replace('.J.','J').replace('.C.','C').replace('.P.','P').replace('.R.','R').replace('.L.','L')\n",
    "        p[3] = p[3].replace('.J.','J').replace('.C.','C').replace('.P.','P').replace('.R.','R').replace('.L.','L')"
   ]
  },
  {
   "cell_type": "code",
   "execution_count": 7,
   "id": "a588fc22-1e10-418e-ab11-4f074700bb4b",
   "metadata": {},
   "outputs": [],
   "source": [
    "\n",
    "playerBios = leaguedashplayerbiostats.LeagueDashPlayerBioStats(season='2024-25',season_type_all_star='Regular Season',league_id='00').get_data_frames()[0].dropna(axis=1, how='all')\n",
    "\n",
    "fn_dict = {p[0]: p[2] for p in players}\n",
    "ln_dict = {p[0]: p[1] for p in players}\n",
    "n_dict = {p[0]: p[3] for p in players}\n",
    "a_dict = {p[0]: p[4] for p in players}\n",
    "\n",
    "playerBios['PLAYER_FIRST_NAME'] = playerBios['PLAYER_ID'].map(fn_dict)\n",
    "playerBios['PLAYER_LAST_NAME'] = playerBios['PLAYER_ID'].map(ln_dict)\n",
    "playerBios['PLAYER_NAME'] = playerBios['PLAYER_ID'].map(n_dict)\n",
    "playerBios['ACTIVE'] = playerBios['PLAYER_ID'].map(a_dict)\n",
    "\n",
    "playerBios.rename(columns={\n",
    "    'PLAYER_NAME':'Player',\n",
    "    'PLAYER_HEIGHT':'Ht',\n",
    "    'PLAYER_WEIGHT':'Wt',\n",
    "    'COLLEGE':'College',\n",
    "    'COUNTRY':'Country',\n",
    "    'DRAFT_YEAR':'Draft Year',\n",
    "    'DRAFT_ROUND':'Draft Round',\n",
    "    'DRAFT_NUMBER':'Draft Pick',\n",
    "    'NET_RATING':'Net Rating',\n",
    "    'TEAM_ABBREVIATION':'Team'\n",
    "},inplace=True)\n",
    "\n",
    "playerBios[['PTS','REB','AST']] = round(playerBios[['PTS','REB','AST']].div(playerBios['GP'],axis=0),1)"
   ]
  },
  {
   "cell_type": "code",
   "execution_count": 8,
   "id": "89098e65-8acd-45ef-92e1-b91eca31588a",
   "metadata": {},
   "outputs": [],
   "source": [
    "sqldf = playerBios[[\n",
    "    'PLAYER_ID',\n",
    "    'PLAYER_LAST_NAME',\n",
    "    'PLAYER_FIRST_NAME',\n",
    "    'Player',\n",
    "    'Ht',\n",
    "    'PLAYER_HEIGHT_INCHES',\n",
    "    'Wt',\n",
    "    'AGE',\n",
    "    'Draft Year',\n",
    "    'Draft Round',\n",
    "    'Draft Pick',\n",
    "    'ACTIVE'\n",
    "]]\n",
    "\n",
    "sqldf = sqldf.rename(columns={\n",
    "    'PLAYER_ID':'playerId',\n",
    "    'PLAYER_LAST_NAME':'lastName',\n",
    "    'PLAYER_FIRST_NAME':'firstName',\n",
    "    'Player':'fullName',\n",
    "    'Ht':'height',\n",
    "    'PLAYER_HEIGHT_INCHES':'heightIn',\n",
    "    'Wt':'weight',\n",
    "    'AGE':'age',\n",
    "    'Draft Year':'draftYear',\n",
    "    'Draft Round':'draftRound',\n",
    "    'Draft Pick':'draftPick',\n",
    "    'ACTIVE':'active'\n",
    "})"
   ]
  },
  {
   "cell_type": "code",
   "execution_count": 9,
   "id": "2079eb8c-c99d-48a7-a304-d13e65dd24fa",
   "metadata": {},
   "outputs": [],
   "source": [
    "# sqldf.sort_values(by=['lastName','firstName'],ascending=[True,True]).set_index('playerId').to_csv('player.csv')"
   ]
  },
  {
   "cell_type": "code",
   "execution_count": 10,
   "id": "2896157d-284e-4a04-b01b-b06b58788bf3",
   "metadata": {},
   "outputs": [],
   "source": [
    "playerIds = []\n",
    "\n",
    "for p in sqldf['playerId']:\n",
    "    playerIds.append(p)"
   ]
  },
  {
   "cell_type": "code",
   "execution_count": 11,
   "id": "804035a7-9354-4463-963b-f94ddd9524ab",
   "metadata": {},
   "outputs": [],
   "source": [
    "import urllib.request\n",
    "import ssl\n",
    "import os\n",
    "\n",
    "def download_image(url, save_as):\n",
    "    os.makedirs(os.path.dirname(save_as), exist_ok=True)\n",
    "    # Create an SSL context that ignores verification (for testing)\n",
    "    context = ssl._create_unverified_context()\n",
    "    \n",
    "    # Open the URL\n",
    "    with urllib.request.urlopen(url, context=context) as response:\n",
    "        data = response.read()\n",
    "    \n",
    "    # Write the image to a file\n",
    "    with open(save_as, 'wb') as f:\n",
    "        f.write(data)"
   ]
  },
  {
   "cell_type": "code",
   "execution_count": 29,
   "id": "c7105822-9def-4780-8f5b-62384be5bc1f",
   "metadata": {},
   "outputs": [
    {
     "name": "stdout",
     "output_type": "stream",
     "text": [
      "100.0% █████████████████████████"
     ]
    }
   ],
   "source": [
    "i = 0\n",
    "last = 0\n",
    "for p in playerIds:\n",
    "    image_url = 'https://cdn.nba.com/headshots/nba/latest/1040x760/' + str(p) + '.png'\n",
    "    save_as = 'players/' + str(p) + '.png'\n",
    "    # download_image(image_url, save_as)\n",
    "    i += 1\n",
    "    printLoad(i,len(playerIds))"
   ]
  },
  {
   "cell_type": "code",
   "execution_count": 12,
   "id": "304d3026-2cc5-40d1-9c6e-c3666bef42d9",
   "metadata": {},
   "outputs": [
    {
     "data": {
      "text/plain": [
       "569"
      ]
     },
     "execution_count": 12,
     "metadata": {},
     "output_type": "execute_result"
    }
   ],
   "source": [
    "len(playerIds)"
   ]
  },
  {
   "cell_type": "code",
   "execution_count": null,
   "id": "2e122bc3-8ac3-45af-93ca-bb9feca03345",
   "metadata": {},
   "outputs": [],
   "source": []
  }
 ],
 "metadata": {
  "kernelspec": {
   "display_name": "Python 3 (ipykernel)",
   "language": "python",
   "name": "python3"
  },
  "language_info": {
   "codemirror_mode": {
    "name": "ipython",
    "version": 3
   },
   "file_extension": ".py",
   "mimetype": "text/x-python",
   "name": "python",
   "nbconvert_exporter": "python",
   "pygments_lexer": "ipython3",
   "version": "3.13.5"
  }
 },
 "nbformat": 4,
 "nbformat_minor": 5
}
